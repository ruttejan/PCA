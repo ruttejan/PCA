{
  "cells": [
    {
      "cell_type": "raw",
      "metadata": {},
      "source": [
        "---\n",
        "title: PCA\n",
        "author: Jan Rutterle\n",
        "bibliography: references.bib\n",
        "format:\n",
        "  revealjs:\n",
        "    theme: white\n",
        "    transition: slide\n",
        "    css: styles.css\n",
        "    html-math-method: mathjax\n",
        "    code-fold: true\n",
        "    echo: true\n",
        "    fig-height: 4\n",
        "    fig-width: 9\n",
        "    fig-align: center\n",
        "---"
      ],
      "id": "5aa67a53"
    },
    {
      "cell_type": "markdown",
      "metadata": {},
      "source": [
        "# Úvod\n",
        "\n",
        "- PCA - Principal Component Analysis neboli analýza hlavních komponent je metoda lineární transformace dat\n",
        "- Využití má především pro:\n",
        "    * Kompresi dat\n",
        "    * Redukci dimenze\n",
        "    * Vizualizaci dat\n",
        "    * Rozpoznávání\n",
        "- V této prezentaci se zaměříme na redukci dimenze a vizualizaci\n",
        "\n",
        "# Data\n",
        "\n",
        "- Postup výpočtu budeme demonstrovat na databázi studentského hodnocení předmětů.\n",
        "- Tato databáze se skládá z 28 specifických otázek a 5 doplňujících atributech.\n",
        "- Popis otázek a atributů a samotnou databázi najdete zde: [@GunduzFokoue:2013]\n",
        "\n",
        "# Popis postupu\n",
        "\n",
        "1. příprava dat\n",
        "2. korelační matice\n",
        "3. spektrální rozklad + zobrazení vlivu jednotlivých komponent\n",
        "5. vizualizace dat \n",
        "[@RPubs]\n",
        "\n",
        "# Příprava dat\n",
        "\n",
        "## Knihovny\n",
        "- nejprve si připravíme všechny potřebné knihovny\n"
      ],
      "id": "53b72951"
    },
    {
      "cell_type": "code",
      "metadata": {},
      "source": [
        "#| code-fold: false\n",
        "\n",
        "using Pkg\n",
        "\n",
        "Pkg.add(\"CSV\") # načtení databáze\n",
        "Pkg.add(\"DataFrames\") # práce s databází\n",
        "Pkg.add(\"LinearAlgebra\") # výpočet spektrálního rozkladu\n",
        "Pkg.add(\"Statistics\") # výpočet kovarianční matice\n",
        "Pkg.add(\"Printf\") # stylování výpisů\n",
        "Pkg.add(\"Plots\") # vizualizace\n",
        "\n",
        "\n",
        "using CSV\n",
        "using DataFrames\n",
        "using LinearAlgebra\n",
        "using Statistics\n",
        "using Printf\n",
        "using Plots\n",
        "\n",
        "include(\"print_funcs.jl\"); # funkce na výpis vlivu jednotlivých komponent"
      ],
      "id": "86f790ea",
      "execution_count": null,
      "outputs": []
    },
    {
      "cell_type": "markdown",
      "metadata": {},
      "source": [
        "## Načtení dat a kontrola\n",
        "\n",
        "::: txt2\n",
        "- Abychom mohli provést výpočet PCA, musíme ověřit, že nám nechybí žádná data a všechny prvky jsou čísla.\n",
        "- Naše data mají 33 sloupců (otázek) a 5820 řádků (studentů)\n",
        ":::\n"
      ],
      "id": "8f618ad4"
    },
    {
      "cell_type": "code",
      "metadata": {},
      "source": [
        "# path to our dataset (.csv file)\n",
        "file_path = joinpath(pwd(), \"data\",\"turkiye-student-evaluation_generic.csv\")\n",
        "\n",
        "# read data as a DataFrame\n",
        "df = CSV.read(file_path, header=true, DataFrame)\n",
        "\n",
        "# select the names of the columns for future use\n",
        "column_names = names(df)\n",
        "\n",
        "# we check that there are no missing values\n",
        "if all(ismissing, eachcol(df))\n",
        "    error(\"DataFrame have some Missing values!\")\n",
        "else \n",
        "    println(\"No value is missing.\\n\")\n",
        "end\n",
        "\n",
        "# we check that we are using only numerical values\n",
        "if !all(t <: Number for t in eltype.(eachcol(df)))\n",
        "    error(\"DataFrame has non-Numeric values!\")\n",
        "else\n",
        "    println(\"All values are numeric.\\n\")\n",
        "end\n",
        "\n",
        "println(df[1:3, 1:7],\"\\n\")\n",
        "println(df[1:3, 8:16],\"\\n\")\n",
        "println(df[1:3, 17:25],\"\\n\")\n",
        "println(df[1:3, 26:end],\"\\n\")"
      ],
      "id": "7705bfa7",
      "execution_count": null,
      "outputs": []
    },
    {
      "cell_type": "markdown",
      "metadata": {},
      "source": [
        "# Korelační matice\n",
        "\n",
        "## Myšlenka\n",
        "\n",
        "::: txt\n",
        "\n",
        "- Jak můžeme vidět z výpisu, jednotlivá hodnocení studentů máme jako řádkové věktory. Proto musíme nejprve data transponovat, abychom měli matici v požadovaném tvaru: \n",
        "$$A=(a_1,\\dots,a_{5820})$$\n",
        "\n",
        "- Data následné musíme vycentrovat a standardizovat, abychom zajistili přesnější výpočet.\n",
        "\n",
        "$$ \\bar{a} = \\frac{a_1 + a_2 + \\dots + a_n}{n} $$\n",
        "\n",
        "$$ \\sigma = \\sqrt{\\frac{1}{n - 1} \\sum_{i=1}^{n} (a_i - \\bar{a})^2} $$\n",
        "\n",
        "::: pozn\n",
        "Pozn: mocnění v sumě probíhá po složkách jednotlivě\n",
        ":::\n",
        "\n",
        "$$ a_{i_{new}} = \\frac{a_i - \\bar{a}}{\\sigma_i}$$\n",
        "\n",
        "- Nyní můžeme vypočítat korelační matici otázek\n",
        "\n",
        "$$ C = AA^T$$\n",
        "\n",
        ":::\n",
        "\n",
        "## Výpočet\n"
      ],
      "id": "f6f867bf"
    },
    {
      "cell_type": "code",
      "metadata": {},
      "source": [
        "# we center and scale our data and create a covariance matrix\n",
        "data_matrix = Matrix(df)'\n",
        "N, M = size(data_matrix)\n",
        "centered_scaled_data = (data_matrix .- mean(data_matrix, dims=2)) ./ std(data_matrix, dims=2)\n",
        "cov_data = centered_scaled_data * centered_scaled_data' / (M-1)\n",
        "df_cov = DataFrame(cov_data, column_names)\n",
        "insertcols!(df_cov, 1, :Names => column_names)\n",
        "\n",
        "show(df_cov)"
      ],
      "id": "df611d1e",
      "execution_count": null,
      "outputs": []
    },
    {
      "cell_type": "markdown",
      "metadata": {},
      "source": [
        "# Spektrální rozklad\n",
        "\n",
        "## Myšlenka\n",
        "\n",
        "- Jakmile máme kovarinační matici, která je symetrická a semidefinitní, můžeme vypočítat spektrální rozklad\n",
        "\n",
        "$$ C = AA^T = V \\Lambda V^T $$\n",
        "\n",
        "- funkce eigen() z balíčku LinearAlgebra nám vrátí vlastní čísla a jejich příslušné vektory ve vzestupném pořadí\n",
        "- Pro lepší náhled si je přerovnáme do sestupného pořadí\n",
        "\n",
        "## Výpočet\n"
      ],
      "id": "d8092f08"
    },
    {
      "cell_type": "code",
      "metadata": {},
      "source": [
        "# calculate eigen values and eigen vectors\n",
        "λ, V = eigen(cov_data);\n",
        "# reverse them so the eigen values are in descending order\n",
        "λ = reverse(λ);\n",
        "V = reverse(V, dims = 2);\n",
        "\n",
        "@printf(\"Size of lambda: %d\\n\", size(λ)[1])\n",
        "@printf(\"Size of V: %d %d\\n\", size(V)[1], size(V)[2])\n",
        "println(\"Eigen values:\")\n",
        "println(λ)"
      ],
      "id": "e9392740",
      "execution_count": null,
      "outputs": []
    },
    {
      "cell_type": "markdown",
      "metadata": {},
      "source": [
        "## Chyba jednotlivých dimenzí\n",
        "\n",
        "::: txt2\n",
        "\n",
        "- Pro každou komponentu (dimenzi) nově vzniklé matice můžeme určit procentuální hodnotu, jak dobře aproximuje původní prostor\n",
        "- Lze vidět, že už s využitím pouze 5 prvních komponent (tedy 5 dimenzí) máme chybu pouze 15%\n",
        "\n",
        ":::\n"
      ],
      "id": "cdf1cd52"
    },
    {
      "cell_type": "code",
      "metadata": {},
      "source": [
        "print_info(λ)\n",
        "\n",
        "# variance.percent(dim = i) = λi / sum(λ)"
      ],
      "id": "4425f52e",
      "execution_count": null,
      "outputs": []
    },
    {
      "cell_type": "markdown",
      "metadata": {},
      "source": [
        "## Vliv jednotlivých komponent\n"
      ],
      "id": "d3cc4aab"
    },
    {
      "cell_type": "code",
      "metadata": {},
      "source": [
        "print_components(λ)"
      ],
      "id": "5cba1504",
      "execution_count": null,
      "outputs": []
    },
    {
      "cell_type": "markdown",
      "metadata": {},
      "source": [
        "# Vizualizace dat\n",
        "\n",
        "## Studenti - graf\n"
      ],
      "id": "d55af2be"
    },
    {
      "cell_type": "code",
      "metadata": {},
      "source": [
        "dim2V = V[:, 1:2]\n",
        "\n",
        "t = dim2V' * centered_scaled_data\n",
        "\n",
        "plotly()\n",
        "scatter(t[1, :], t[2, :], legend=nothing)"
      ],
      "id": "e1d7c3b8",
      "execution_count": null,
      "outputs": []
    },
    {
      "cell_type": "markdown",
      "metadata": {},
      "source": [
        "## Studenti\n",
        "\n",
        "- Na předchozím obrázku můžeme vidět vizualizaci odpovědí jednotlivých studentů ve 2 dimenzích\n",
        "- Všimněme si, že v datech se objevuje 5 shluků (clusterů)\n",
        "- Pokud si vypíšeme původní hodnoty odpovědí pro studenty z každého clusteru, zjistíme, že téměř všechny odpovědi byly vždy stejné\n",
        "- V prvním clusteru (nejvíce vpravo) mají odpovědi na otázky Q1-Q28 hodnotu 1, pro druhý 2 atd.\n",
        "- Body si můžeme obarvit podle průměru odpovědí na tyto otázky\n",
        "\n",
        "\n",
        "## Studenti - obarveno\n"
      ],
      "id": "bf043dcb"
    },
    {
      "cell_type": "code",
      "metadata": {},
      "source": [
        "function get_value(x)\n",
        "    if isapprox(x, 1, atol=0.1)\n",
        "        return 1\n",
        "    elseif isapprox(x, 2, atol=0.1)\n",
        "        return 2\n",
        "    elseif isapprox(x, 3, atol=0.1)\n",
        "        return 3\n",
        "    elseif isapprox(x, 4, atol=0.1)\n",
        "        return 4\n",
        "    elseif isapprox(x, 5, atol=0.1)\n",
        "        return 5\n",
        "    else\n",
        "        return 6\n",
        "    end\n",
        "end\n",
        "\n",
        "mean_of_Q_answers = mean(data_matrix[6:end, :], dims=1)'\n",
        "vals = [get_value(x) for x in mean_of_Q_answers]\n",
        "indices_1 = findall(x -> x == 1, vals)\n",
        "indices_2 = findall(x -> x == 2 , vals)\n",
        "indices_3 = findall(x -> x == 3 , vals)\n",
        "indices_4 = findall(x -> x == 4, vals)\n",
        "indices_5 = findall(x -> x == 5 , vals)\n",
        "indices_other = findall(x -> x == 6, vals)\n",
        "scatter(t[1, indices_1], t[2, indices_1],color=:red, label=\"1\")\n",
        "scatter!(t[1, indices_2], t[2,indices_2], color=:purple, label=\"2\")\n",
        "scatter!(t[1, indices_3], t[2,indices_3], color=:green, label=\"3\")\n",
        "scatter!(t[1, indices_4], t[2,indices_4], color=:yellow, label=\"4\")\n",
        "scatter!(t[1, indices_5], t[2,indices_5], color=:orange, label=\"5\")\n",
        "scatter!(t[1, indices_other], t[2,indices_other], color=:blue, label=\"other\")"
      ],
      "id": "8881e06a",
      "execution_count": null,
      "outputs": []
    },
    {
      "cell_type": "markdown",
      "metadata": {},
      "source": [
        "## Studenti 3.dim"
      ],
      "id": "cca7d918"
    },
    {
      "cell_type": "code",
      "metadata": {},
      "source": [
        "dim3V = V[:, 1:3]\n",
        "\n",
        "d = dim3V' * centered_scaled_data\n",
        "\n",
        "scatter(d[1, :], d[2, :], d[3, :], legend=nothing, ms=1)"
      ],
      "id": "404e989c",
      "execution_count": null,
      "outputs": []
    },
    {
      "cell_type": "markdown",
      "metadata": {},
      "source": [
        "## Otázky\n",
        "\n",
        "- Pro vizualizaci vlivu jednotlivých otázek na jednotlivé komponenty musíme vytvořit korelační matici jednotlivých studentů\n",
        "- Místo $AA^T$ uděláme:\n",
        "$$ A^TA $$\n",
        "\n",
        "## Otázky - graf\n"
      ],
      "id": "5d9081d1"
    },
    {
      "cell_type": "code",
      "metadata": {},
      "source": [
        "cov_data2 = centered_scaled_data' * centered_scaled_data / (M-1);\n",
        "\n",
        "λ2, V2 = eigen(cov_data2);\n",
        "# reverse them so the eigen values are in descending order\n",
        "λ2 = reverse(λ2);\n",
        "V2 = reverse(V2, dims = 2);\n",
        "\n",
        "dim2V2 = V2[:, 1:2];\n",
        "t2 = centered_scaled_data * dim2V2;\n",
        "size(t2)\n",
        "x = t2[:, 1]';\n",
        "y = t2[:, 2]';\n",
        "scatter(x, y, legend=nothing)\n",
        "annotate!([(xi, yi, text(name, :bottom, 8)) for (xi, yi, name) in zip(x, y, column_names)])"
      ],
      "id": "03d1294d",
      "execution_count": null,
      "outputs": []
    },
    {
      "cell_type": "markdown",
      "metadata": {},
      "source": [
        "# Závěr\n",
        "- PCA je poměrně jednoduchá metoda pro práci i s velkými daty a může nám pomoct porozumět rozložení dat nebo třeba ke klasifikaci dat (v případě strojového učení)\n",
        "\n",
        "- Zde se nám povedlo promítnout body do prvních 2 dimenzí s chybou 25%, a do prvních 3 s chybou 22%\n",
        "\n",
        "- Pro klasifikaci bychom mohli použít prvních 8 dimenzí s chybou už pouhých 10%\n",
        "\n",
        "# Bibliografie\n",
        "\n",
        "::: {#refs}\n",
        ":::"
      ],
      "id": "da85bdae"
    }
  ],
  "metadata": {
    "kernelspec": {
      "name": "julia-1.9",
      "language": "julia",
      "display_name": "Julia 1.9.3"
    }
  },
  "nbformat": 4,
  "nbformat_minor": 5
}